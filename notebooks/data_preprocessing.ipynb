{
 "cells": [
  {
   "cell_type": "code",
   "execution_count": null,
   "id": "initial_id",
   "metadata": {
    "collapsed": true
   },
   "outputs": [],
   "source": [
    "import pandas as pd\n",
    "import sys\n",
    "sys.path.append('../scripts')\n",
    "\n",
    "from preprocessing import clean_text"
   ]
  },
  {
   "metadata": {},
   "cell_type": "code",
   "outputs": [],
   "execution_count": null,
   "source": [
    "df = pd.read_csv('../data/complaints.csv')\n",
    "\n",
    "df.head()"
   ],
   "id": "a7a3bf6d7a458ba8"
  },
  {
   "metadata": {},
   "cell_type": "code",
   "outputs": [],
   "execution_count": null,
   "source": [
    "# Handle Missing Values\n",
    "df = df.dropna(subset=['complaint'])\n",
    "\n",
    "# Clean Text\n",
    "df['cleaned_complaint'] = df['complaint'].apply(clean_text)\n",
    "\n",
    "# Save cleaned data (optional)\n",
    "df.to_csv('../data/complaints_cleaned.csv', index=False)\n",
    "\n",
    "df[['complaint', 'cleaned_complaint']].head()"
   ],
   "id": "757ab7e5dbc9effc"
  }
 ],
 "metadata": {
  "kernelspec": {
   "display_name": "Python 3",
   "language": "python",
   "name": "python3"
  },
  "language_info": {
   "codemirror_mode": {
    "name": "ipython",
    "version": 2
   },
   "file_extension": ".py",
   "mimetype": "text/x-python",
   "name": "python",
   "nbconvert_exporter": "python",
   "pygments_lexer": "ipython2",
   "version": "2.7.6"
  }
 },
 "nbformat": 4,
 "nbformat_minor": 5
}

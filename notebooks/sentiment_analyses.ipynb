{
 "cells": [
  {
   "cell_type": "code",
   "execution_count": null,
   "id": "initial_id",
   "metadata": {
    "collapsed": true
   },
   "outputs": [],
   "source": [
    "import pandas as pd\n",
    "import matplotlib.pyplot as plt\n",
    "import seaborn as sns\n",
    "import sys\n",
    "sys.path.append('../scripts')\n",
    "\n",
    "from sentiment import get_sentiment"
   ]
  },
  {
   "metadata": {},
   "cell_type": "markdown",
   "source": "Load cleaned data",
   "id": "59c293f496ca56b1"
  },
  {
   "metadata": {},
   "cell_type": "code",
   "outputs": [],
   "execution_count": null,
   "source": "df = pd.read_csv('../data/complaints_cleaned.csv')\n",
   "id": "36f98484e86a79ea"
  },
  {
   "metadata": {},
   "cell_type": "markdown",
   "source": "Apply Sentiment Analysis",
   "id": "356b47f8293da547"
  },
  {
   "metadata": {},
   "cell_type": "code",
   "outputs": [],
   "execution_count": null,
   "source": "df['sentiment'] = df['cleaned_complaint'].apply(get_sentiment)\n",
   "id": "aed2753bfea3413d"
  },
  {
   "metadata": {},
   "cell_type": "code",
   "outputs": [],
   "execution_count": null,
   "source": [
    "plt.figure(figsize=(8,6))\n",
    "sns.countplot(x='sentiment', data=df, palette='coolwarm')\n",
    "plt.title('Sentiment Distribution of Complaints')\n",
    "plt.xlabel('Sentiment')\n",
    "plt.ylabel('Number of Complaints')\n",
    "plt.show()"
   ],
   "id": "c054f0267f7748ff"
  },
  {
   "metadata": {},
   "cell_type": "code",
   "outputs": [],
   "execution_count": null,
   "source": "df.to_csv('../data/complaints_with_sentiment.csv', index=False)\n",
   "id": "4139cbd8c121e70b"
  },
  {
   "metadata": {},
   "cell_type": "code",
   "outputs": [],
   "execution_count": null,
   "source": "df[['cleaned_complaint', 'sentiment']].head()\n",
   "id": "34ba183452a11976"
  }
 ],
 "metadata": {
  "kernelspec": {
   "display_name": "Python 3",
   "language": "python",
   "name": "python3"
  },
  "language_info": {
   "codemirror_mode": {
    "name": "ipython",
    "version": 2
   },
   "file_extension": ".py",
   "mimetype": "text/x-python",
   "name": "python",
   "nbconvert_exporter": "python",
   "pygments_lexer": "ipython2",
   "version": "2.7.6"
  }
 },
 "nbformat": 4,
 "nbformat_minor": 5
}
